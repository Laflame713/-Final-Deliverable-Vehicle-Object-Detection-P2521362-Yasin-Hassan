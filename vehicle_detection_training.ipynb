{
  "nbformat": 4,
  "nbformat_minor": 0,
  "metadata": {
    "colab": {
      "name": "vehicle_detection_training",
      "provenance": [],
      "collapsed_sections": []
    },
    "kernelspec": {
      "name": "python3",
      "display_name": "Python 3"
    },
    "language_info": {
      "name": "python"
    },
    "accelerator": "GPU"
  },
  "cells": [
    {
      "cell_type": "code",
      "source": [
        "#Allows me to see what GPU the system is using .\n",
        "#I required a Tesla T4 because it provided me with higher VRAM which allowed better perfromance when trianing. \n",
        "#The higher the VRAM the the higher the batch size could be.\n",
        "!nvidia-smi"
      ],
      "metadata": {
        "colab": {
          "base_uri": "https://localhost:8080/"
        },
        "id": "4hv-H-pgqrUq",
        "outputId": "c9e10dc5-fa4f-4241-e4d1-a34fa4abc302"
      },
      "execution_count": null,
      "outputs": [
        {
          "output_type": "stream",
          "name": "stdout",
          "text": [
            "Mon Apr 25 21:35:54 2022       \n",
            "+-----------------------------------------------------------------------------+\n",
            "| NVIDIA-SMI 460.32.03    Driver Version: 460.32.03    CUDA Version: 11.2     |\n",
            "|-------------------------------+----------------------+----------------------+\n",
            "| GPU  Name        Persistence-M| Bus-Id        Disp.A | Volatile Uncorr. ECC |\n",
            "| Fan  Temp  Perf  Pwr:Usage/Cap|         Memory-Usage | GPU-Util  Compute M. |\n",
            "|                               |                      |               MIG M. |\n",
            "|===============================+======================+======================|\n",
            "|   0  Tesla T4            Off  | 00000000:00:04.0 Off |                    0 |\n",
            "| N/A   34C    P8     9W /  70W |      0MiB / 15109MiB |      0%      Default |\n",
            "|                               |                      |                  N/A |\n",
            "+-------------------------------+----------------------+----------------------+\n",
            "                                                                               \n",
            "+-----------------------------------------------------------------------------+\n",
            "| Processes:                                                                  |\n",
            "|  GPU   GI   CI        PID   Type   Process name                  GPU Memory |\n",
            "|        ID   ID                                                   Usage      |\n",
            "|=============================================================================|\n",
            "|  No running processes found                                                 |\n",
            "+-----------------------------------------------------------------------------+\n"
          ]
        }
      ]
    },
    {
      "cell_type": "code",
      "execution_count": null,
      "metadata": {
        "colab": {
          "base_uri": "https://localhost:8080/"
        },
        "id": "kDdllFM6YIM6",
        "outputId": "dbe2631a-50d2-4ba6-9ac0-a67f96502efc"
      },
      "outputs": [
        {
          "output_type": "stream",
          "name": "stdout",
          "text": [
            "Mounted at /content/gdrive\n"
          ]
        }
      ],
      "source": [
        "#Connecting all my data which is stored in my Google Drive.\n",
        "from google.colab import drive\n",
        "drive.mount('/content/gdrive')"
      ]
    },
    {
      "cell_type": "code",
      "source": [
        "#Establishing an enviroment for my models.\n",
        "import os\n",
        "import sys\n",
        "os.environ['PYTHONPATH']+=\":/content/gdrive/My Drive/TensorFlow/models\"\n",
        "sys.path.append(\"/content/gdrive/My Drive/TensorFlow/models/research\")"
      ],
      "metadata": {
        "id": "8eAJTlN4YTo2"
      },
      "execution_count": null,
      "outputs": []
    },
    {
      "cell_type": "code",
      "source": [
        "#Clones all the models I required for training and stores them on Google Drive.\n",
        "%cd '/content/gdrive/My Drive/TensorFlow'\n",
        "\n",
        "!git clone https://github.com/tensorflow/models.git\n",
        "\n",
        "%cd '/content/gdrive/MyDrive/TensorFlow/models'\n",
        "!git checkout -f e04dafd04d69053d3733bb91d47d0d95bc2c8199"
      ],
      "metadata": {
        "id": "uhXmrXWyYTrU"
      },
      "execution_count": null,
      "outputs": []
    },
    {
      "cell_type": "code",
      "source": [
        "#Downloads and installing all the neccessary packages needed for training, as well as updating exsiting ones.\n",
        "!pip install Cython pandas tf-slim lvis\n",
        "!apt-get install -qq protobuf-compiler python-pil python-lxml python-tk\n",
        "!apt-get update --fix-missing\n",
        "!pip install -q Cython contextlib2 pillow lxml matplotlib\n",
        "!pip install -q pycocotools\n"
      ],
      "metadata": {
        "id": "cpGSwC6EYTqm"
      },
      "execution_count": null,
      "outputs": []
    },
    {
      "cell_type": "code",
      "source": [
        "#Installs Protoc which is required to funciton with python3.\n",
        "%cd '/content/gdrive/My Drive/TensorFlow/models/research/'\n",
        "!protoc object_detection/protos/*.proto --python_out=."
      ],
      "metadata": {
        "id": "b5IcUozVYTpl"
      },
      "execution_count": null,
      "outputs": []
    },
    {
      "cell_type": "code",
      "source": [
        "#Runs the setup file in my G-Drive, then proceeds to run it.\n",
        "!python setup.py build\n",
        "!python setup.py install\n"
      ],
      "metadata": {
        "id": "OndI2fEuYToC"
      },
      "execution_count": null,
      "outputs": []
    },
    {
      "cell_type": "code",
      "source": [
        "#Reverts TensorFlow to an Older version so it can work with Keras.\n",
        "!pip install --upgrade tensorflow-gpu==2.7.*\n",
        "!pip install --upgrade tensorflow==2.7.*"
      ],
      "metadata": {
        "id": "jAEHpsCjB9uy"
      },
      "execution_count": null,
      "outputs": []
    },
    {
      "cell_type": "code",
      "source": [
        "#Running a test to make sure my data is being read properly and all exsisting packages are working as they should be.\n",
        "%cd '/content/gdrive/My Drive/TensorFlow/models/research/object_detection/builders/'\n",
        "\n",
        "!python model_builder_tf2_test.py\n",
        "from object_detection.utils import label_map_util\n",
        "from object_detection.utils import visualization_utils as viz_utils\n",
        "print('Done')"
      ],
      "metadata": {
        "id": "8uc9_pJsYTXf"
      },
      "execution_count": null,
      "outputs": []
    },
    {
      "cell_type": "code",
      "source": [
        "#Paths into preprocessing.\n",
        "%cd '/content/gdrive/My Drive/TensorFlow/Scripts/Preprocessing'\n",
        "\n",
        "#Allows the system to generate a TFrecord, it compresses the images into a smaller and more readable file. One for training and one for testing.\n",
        "#TFrecords are required to train the model.\n",
        "!python generate_tfrecord.py -x '/content/gdrive/My Drive/TensorFlow/Workspace/Training_Demo/Images/Train/' -l '/content/gdrive/My Drive/TensorFlow/Workspace/Training_Demo/Annotations/label_map.pbtxt/' -o '/content/gdrive/My Drive/TensorFlow/Workspace/Training_Demo/Annotations/train.record/'\n",
        "!python generate_tfrecord.py -x '/content/gdrive/My Drive/TensorFlow/Workspace/Training_Demo/Images/Test/' -l '/content/gdrive/My Drive/TensorFlow/Workspace/Training_Demo/Annotations/label_map.pbtxt/' -o '/content/gdrive/My Drive/TensorFlow/Workspace/Training_Demo/Annotations/test.record/'"
      ],
      "metadata": {
        "id": "ujlLVFtJYTVA"
      },
      "execution_count": null,
      "outputs": []
    },
    {
      "cell_type": "code",
      "source": [
        "#Paths into training_demo\n",
        "%cd '/content/gdrive/My Drive/TensorFlow/Workspace/Training_Demo'\n",
        "#Tensorboard allows me to see my data and the effiency of my models in real time. Useful for making adjustments when needed.\n",
        "%load_ext tensorboard\n",
        "%tensorboard --logdir=models/my_ssd_resnet50_v1_fpn"
      ],
      "metadata": {
        "id": "WM5Ef2R7YTSq"
      },
      "execution_count": null,
      "outputs": []
    },
    {
      "cell_type": "code",
      "source": [
        "#Path into training_demo\n",
        "%cd '/content/gdrive/My Drive/TensorFlow/Workspace/Training_Demo'\n",
        "#my_SSD_resnet model that I am currently training.\n",
        "#This were the training begins.\n",
        "!python model_main_tf2.py --model_dir=Models/my_ssd_resnet50_v1_fpn_640x640_coco17_tpu-8 --pipeline_config_path=Models/my_ssd_resnet50_v1_fpn_640x640_coco17_tpu-8/pipeline.config"
      ],
      "metadata": {
        "id": "CnMLz3lDYTOC"
      },
      "execution_count": null,
      "outputs": []
    },
    {
      "cell_type": "code",
      "source": [
        "#Once training is complete I can begin exporting my model for evaluation.\n",
        "%cd '/content/gdrive/My Drive/TensorFlow/workspace/trainingdemo'\n",
        "!python exporter_main_v2.py --input_type image_tensor --pipeline_config_path ./models/my_ssd_resnet50_v1_fpn_640x640_coco17_tpu-8/pipeline.config --trained_checkpoint_dir ./models/my_ssd_resnet50_v1_fpn_640x640_coco17_tpu-8/ --output_directory ./exported-models/my_ssd_resnet50_v1_fpn_640x640_coco17_tpu-8"
      ],
      "metadata": {
        "id": "mJFeH8yva4SV"
      },
      "execution_count": null,
      "outputs": []
    },
    {
      "cell_type": "code",
      "source": [
        "#Using completed models for testing on a new dataset.\n",
        "\n",
        "%cd '/content/gdrive/My Drive/TensorFlow/workspace/trainingdemo'\n",
        "\n",
        "#importing libraries\n",
        "import numpy as np\n",
        "import tensorflow as tf\n",
        "import cv2\n",
        "from PIL import Image\n",
        "import matplotlib.pyplot as plt\n",
        "\n",
        "# all the completed models for inference\n",
        "\n",
        "#'/content/gdrive/My Drive/TensorFlow/workspace/training_demo/exported-models/faster_rcnn_resnet152_v1_640x640_final/saved_model'\n",
        "#'/content/gdrive/My Drive/TensorFlow/workspace/training_demo/exported-models/ssd_resnet50_640x640_final/saved_model'\n",
        "#'/content/gdrive/My Drive/TensorFlow/workspace/training_demo/exported-models/ssd_resnet152_1024x1024_final/saved_model'\n",
        "#'/content/gdrive/My Drive/TensorFlow/workspace/training_demo/exported-models/faster_rcnn_640x640_final/saved_model'\n",
        "#'/content/gdrive/My Drive/TensorFlow/workspace/training_demo/exported-models/faster_rcnn_inception_resnet50_v2_1024x1024_final/saved_model'\n",
        "#'/content/gdrive/My Drive/TensorFlow/workspace/training_demo/exported-models/faster_rcnn_inception_resnet50_v2_640x640_final/saved_model'\n",
        "\n",
        "\n",
        "#Importing all the elements needed for inference.\n",
        "final_model_path = \"exported-models/ssd_resnet152_final/saved_model\"\n",
        "loaded_model = tf.saved_model.load(final_model_path)\n",
        "\n",
        "print(\"Model loading completed\")"
      ],
      "metadata": {
        "id": "uPEb8gVla4Hr"
      },
      "execution_count": null,
      "outputs": []
    },
    {
      "cell_type": "code",
      "source": [
        "#Converting Label map so its compatiable for inference.\n",
        "\n",
        "label_map_path = '/content/gdrive/My Drive/TensorFlow/workspace/training_demo/annotations/label_map.pbtxt'\n",
        "\n",
        "#Classifies each vehicle which present in a image.\n",
        "category_index = label_map_util.create_category_index_from_labelmap(label_map_path, use_display_name=True)"
      ],
      "metadata": {
        "id": "WqiZvhWsa34Z"
      },
      "execution_count": null,
      "outputs": []
    },
    {
      "cell_type": "code",
      "source": [
        "Loading the test images that will be used for inference.\n",
        "\n",
        "##Examples for images folder\n",
        "\n",
        "# 00002.JPG - single car\n",
        "# 00003.JPG - multiple vehicles\n",
        "# 00074.JPG - urban street\n",
        "# 00004.JPG - all for clases\n",
        "# 00690_a7f65606a8_b.jpg - bike and bus\n",
        "# 52343-p803xta-160906_253165604_o.JPG - two busses\n",
        "# 71139-dg52vfm-jet-wincanton_203136515_o.JPG - three busses\n",
        "# a543hac-stagecoach-devon_495256095_o.JPG - two vehicles\n",
        "# asda-dk04rax_140476782_o.JPG - numerous cars\n",
        "\n",
        "\n",
        "##Final test images \n",
        "\n",
        "# \"images/final/00002.jpg\",\"images/final/00003.jpg\",\"images/final/000033.jpg\",\"images/final/4.jpg\",\"images/final/5.jpg\",\"images/final/6.jpg\",\"images/final/7.jpg\",\"images/final/8.jpg\",\"images/final/9.jpg\",\"images/final/10.jpg\",\"images/final/11.jpg\",\"images/final/12.jpg\"\n",
        "# \"images/final/13.JPG\",\"images/final/14.JPG\",\"images/final/15.JPG\",\"images/final/16.JPG\",\"images/final/17.JPG\",\"images/final/18.JPG\",\"images/final/19.JPG\",\"images/final/20.JPG\",\"images/final/21.JPG\",\"images/final/22.JPG\",\"images/final/23.JPG\",\"images/final/24.JPG\",\"images/final/25.JPG\"\n",
        "\n",
        "\n",
        "#test_images = [\"images/test/00002.JPG\",\"images/test/00003.JPG\", \"images/test/71139.JPG\", \"images/test/00004.JPG\"]\n",
        "test_images = [\"images/final//00002.JPG\",\"images/final/00003.JPG\",\"images/final/71139.JPG\",\"images/final/00004.JPG\"]\n",
        "print(test_images)"
      ],
      "metadata": {
        "id": "JNnacTm7bXYA"
      },
      "execution_count": null,
      "outputs": []
    },
    {
      "cell_type": "code",
      "source": [
        "#@title\n",
        "#Runs the detection software\n",
        "#Allows me to compare the performance of the final trained models to using prior results.\n",
        "\n",
        "%cd '/content/gdrive/My Drive/TensorFlow/workspace/training_demo'\n",
        "\n",
        "#Imports the images for testing into a numpty array\n",
        "def image_numpy_array(path):\n",
        "    return np.array(Image.open(path))\n",
        "\n",
        "for image in test_images:\n",
        "  image_numpy=image_numpy_array(image)\n",
        "\n",
        "  #The images used for testing are converted into tensors.\n",
        "  tensor_convert=tf.convert_to_tensor(image_numpy)\n",
        "  #Numerous images can be used at one.\n",
        "  tensor_convert=tensor_convert[tf.newaxis,...]\n",
        "\n",
        "  model_detection=loaded_model(tensor_convert)\n",
        "\n",
        "\n",
        "  num_detections=int(model_detection.pop('num_detections'))\n",
        "  model_detection={key:value[0,:num_detections].numpy()\n",
        "                    for key,value in model_detection.items()}\n",
        "  model_detection['num_detections']=num_detections\n",
        "\n",
        "  model_detection['detection_classes']= model_detection['detection_classes'].astype(np.int64)\n",
        "  \n",
        "  image_np_with_detections=image_numpy.copy()\n",
        "\n",
        "  #configuring the image that will be displayed\n",
        "  viz_utils.visualize_boxes_and_labels_on_image_array(\n",
        "            image_np_with_detections,         # The image that will be displayed.\n",
        "            model_detection['detection_boxes'],    # Displays the box for each object.\n",
        "            model_detection['detection_classes'],  # Displays the objects class.\n",
        "            model_detection['detection_scores'], #Displays the accuracy of each object.\n",
        "            category_index,           #Utilises the label maps category.\n",
        "            use_normalized_coordinates=True, # Nomalizes the coordinates so they can be analysed.\n",
        "            line_thickness = 7,      # Adjusts each line thickness.\n",
        "            max_boxes_to_draw=100,   #Caps the number of boxes to be displayed.\n",
        "            min_score_thresh=.6,  #Boxes will only be displayed if accuracy is 60% or above.\n",
        "            agnostic_mode=False)\n",
        "\n",
        "  print('Completed Detection for {}... '.format(image), end='')\n",
        "\n",
        "\n",
        "  # Once configuration is complete the image is outputted.\n",
        "  %matplotlib inline\n",
        "  plt.figure()\n",
        "\n",
        "  # final image to be outputted.\n",
        "  plt.figure(figsize=(40,20)) \n",
        "  plt.imshow(image_np_with_detections)\n",
        "  plt.show()\n",
        "  "
      ],
      "metadata": {
        "id": "-LLvxfM2bXNs"
      },
      "execution_count": null,
      "outputs": []
    }
  ]
}